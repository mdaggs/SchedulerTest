{
 "cells": [
  {
   "cell_type": "code",
   "execution_count": 42,
   "id": "c00a41a7-f897-4880-a4ab-1a9157a23ca8",
   "metadata": {},
   "outputs": [
    {
     "ename": "ModuleNotFoundError",
     "evalue": "No module named 'Sharepoint'",
     "output_type": "error",
     "traceback": [
      "\u001b[1;31m---------------------------------------------------------------------------\u001b[0m",
      "\u001b[1;31mModuleNotFoundError\u001b[0m                       Traceback (most recent call last)",
      "\u001b[1;32mC:\\Windows\\Temp\\ipykernel_10544\\2724878363.py\u001b[0m in \u001b[0;36m<module>\u001b[1;34m\u001b[0m\n\u001b[1;32m----> 1\u001b[1;33m \u001b[1;32mfrom\u001b[0m \u001b[0mSharepoint\u001b[0m \u001b[1;32mimport\u001b[0m \u001b[0mSharePoint\u001b[0m\u001b[1;33m\u001b[0m\u001b[1;33m\u001b[0m\u001b[0m\n\u001b[0m\u001b[0;32m      2\u001b[0m \u001b[1;32mimport\u001b[0m \u001b[0mre\u001b[0m\u001b[1;33m\u001b[0m\u001b[1;33m\u001b[0m\u001b[0m\n\u001b[0;32m      3\u001b[0m \u001b[1;32mimport\u001b[0m \u001b[0msys\u001b[0m\u001b[1;33m\u001b[0m\u001b[1;33m\u001b[0m\u001b[0m\n",
      "\u001b[1;31mModuleNotFoundError\u001b[0m: No module named 'Sharepoint'"
     ]
    }
   ],
   "source": [
    "from Sharepoint import SharePoint\n",
    "import re\n",
    "import sys"
   ]
  },
  {
   "cell_type": "code",
   "execution_count": 30,
   "id": "af11b2c2-2ead-4fd6-a99e-bb93f9195ec5",
   "metadata": {},
   "outputs": [],
   "source": [
    "# 1 args = folder name\n",
    "folder_name = sys.argv[1]\n",
    "# 2 args = folder_dest\n",
    "folder_dest = sys.argv[2]\n",
    "# 3 args = file_name\n",
    "file_name = sys.argv[3]\n",
    "# 4 args = file_name_pattern\n",
    "file_name_pattern = sys.argv[4]"
   ]
  },
  {
   "cell_type": "code",
   "execution_count": 30,
   "id": "cdbc2782-9371-4614-8ad0-f89c203b7a17",
   "metadata": {},
   "outputs": [],
   "source": [
    "def save_file(file_n, file_obj):\n",
    "    file_dir_path = '\\\\'.join([folder_dest, file_n])\n",
    "    with open(file_dir_path, 'wb') as f:\n",
    "        f.write(file_obj)\n",
    "        f.close()\n",
    "\n",
    "def get_file(file_n, folder):\n",
    "    file_obj = SharePoint().download_file(file_n, folder)\n",
    "    save_file(file_n, file_obj)\n",
    "\n",
    "def get_files(folder):\n",
    "    files_list = SharePoint().download_files(folder)\n",
    "    for file in files_list:\n",
    "        get_file(file['Name'], folder)\n",
    "\n",
    "def get_files_by_pattern(pattern, folder):\n",
    "    files_list = SharePoint().download_files(folder)\n",
    "    for file in files_list:\n",
    "        if re.search(pattern, file['Name']):\n",
    "            get_file(file['Name'], folder)"
   ]
  },
  {
   "cell_type": "code",
   "execution_count": 30,
   "id": "5bf806db-7af4-4d6b-85ae-2a7df08bf38d",
   "metadata": {},
   "outputs": [],
   "source": [
    "if __name__ == '__main__':\n",
    "    if file_name != 'None':\n",
    "        get_file(file_name, folder_name)\n",
    "    elif file_name_pattern != 'None':\n",
    "        get_files_by_pattern(file_name_pattern, folder_name)\n",
    "    else:\n",
    "        get_files(folder_name)"
   ]
  },
  {
   "cell_type": "code",
   "execution_count": 31,
   "id": "339993e0-daaf-4640-8246-9f9b59e8362a",
   "metadata": {},
   "outputs": [],
   "source": []
  },
  {
   "cell_type": "code",
   "execution_count": 32,
   "id": "78012212-c102-4278-ae10-982640858820",
   "metadata": {},
   "outputs": [
    {
     "data": {
      "text/plain": [
       "'https://centurylink.sharepoint.com/sites/CodeRepository/PartnerBillableRevenue/'"
      ]
     },
     "execution_count": 32,
     "metadata": {},
     "output_type": "execute_result"
    }
   ],
   "source": []
  },
  {
   "cell_type": "code",
   "execution_count": 33,
   "id": "9d1f1a5f-4959-45fa-8524-35937f7bf426",
   "metadata": {},
   "outputs": [],
   "source": []
  },
  {
   "cell_type": "code",
   "execution_count": 34,
   "id": "c19d0302-09a0-4fe1-b3f7-fea9707efcef",
   "metadata": {},
   "outputs": [],
   "source": []
  },
  {
   "cell_type": "code",
   "execution_count": 35,
   "id": "3c523af4-9fe3-4ded-8b40-7edee767f0d1",
   "metadata": {},
   "outputs": [],
   "source": [
    "\n"
   ]
  },
  {
   "cell_type": "code",
   "execution_count": 36,
   "id": "ac81e7cc-8190-430a-a17c-9eecaf5a0cb2",
   "metadata": {},
   "outputs": [
    {
     "data": {
      "text/plain": [
       "<office365.sharepoint.client_context.ClientContext at 0x1d7144a2f60>"
      ]
     },
     "execution_count": 36,
     "metadata": {},
     "output_type": "execute_result"
    }
   ],
   "source": []
  },
  {
   "cell_type": "code",
   "execution_count": 40,
   "id": "bf1c8f26-64fa-4ad8-84eb-a04d4b3d717d",
   "metadata": {},
   "outputs": [
    {
     "ename": "AttributeError",
     "evalue": "'str' object has no attribute 'mkdtemp'",
     "output_type": "error",
     "traceback": [
      "\u001b[1;31m---------------------------------------------------------------------------\u001b[0m",
      "\u001b[1;31mAttributeError\u001b[0m                            Traceback (most recent call last)",
      "\u001b[1;32mC:\\Windows\\Temp\\ipykernel_10544\\943436071.py\u001b[0m in \u001b[0;36m<module>\u001b[1;34m\u001b[0m\n\u001b[0;32m      1\u001b[0m \u001b[0mfile_url\u001b[0m \u001b[1;33m=\u001b[0m \u001b[1;34m\"package.txt\"\u001b[0m\u001b[1;33m\u001b[0m\u001b[1;33m\u001b[0m\u001b[0m\n\u001b[1;32m----> 2\u001b[1;33m \u001b[0mdownload_path\u001b[0m \u001b[1;33m=\u001b[0m \u001b[0mos\u001b[0m\u001b[1;33m.\u001b[0m\u001b[0mpath\u001b[0m\u001b[1;33m.\u001b[0m\u001b[0mjoin\u001b[0m\u001b[1;33m(\u001b[0m\u001b[0mfile_url\u001b[0m\u001b[1;33m.\u001b[0m\u001b[0mmkdtemp\u001b[0m\u001b[1;33m(\u001b[0m\u001b[1;33m)\u001b[0m\u001b[1;33m,\u001b[0m \u001b[0mos\u001b[0m\u001b[1;33m.\u001b[0m\u001b[0mpath\u001b[0m\u001b[1;33m.\u001b[0m\u001b[0mbasename\u001b[0m\u001b[1;33m(\u001b[0m\u001b[0mfile_url\u001b[0m\u001b[1;33m)\u001b[0m\u001b[1;33m)\u001b[0m\u001b[1;33m\u001b[0m\u001b[1;33m\u001b[0m\u001b[0m\n\u001b[0m\u001b[0;32m      3\u001b[0m \u001b[1;32mwith\u001b[0m \u001b[0mopen\u001b[0m\u001b[1;33m(\u001b[0m\u001b[0mdownload_path\u001b[0m\u001b[1;33m,\u001b[0m \u001b[1;34m\"wb\"\u001b[0m\u001b[1;33m)\u001b[0m \u001b[1;32mas\u001b[0m \u001b[0mlocal_file\u001b[0m\u001b[1;33m:\u001b[0m\u001b[1;33m\u001b[0m\u001b[1;33m\u001b[0m\u001b[0m\n\u001b[0;32m      4\u001b[0m     \u001b[0mfile\u001b[0m \u001b[1;33m=\u001b[0m \u001b[0mctx\u001b[0m\u001b[1;33m.\u001b[0m\u001b[0mweb\u001b[0m\u001b[1;33m.\u001b[0m\u001b[0mget_file_by_server_relative_path\u001b[0m\u001b[1;33m(\u001b[0m\u001b[0mfile_url\u001b[0m\u001b[1;33m)\u001b[0m\u001b[1;33m.\u001b[0m\u001b[0mdownload\u001b[0m\u001b[1;33m(\u001b[0m\u001b[0mlocal_file\u001b[0m\u001b[1;33m)\u001b[0m\u001b[1;33m.\u001b[0m\u001b[0mexecute_query\u001b[0m\u001b[1;33m(\u001b[0m\u001b[1;33m)\u001b[0m\u001b[1;33m\u001b[0m\u001b[1;33m\u001b[0m\u001b[0m\n\u001b[0;32m      5\u001b[0m     \u001b[1;31m#file = ctx.web.get_file_by_server_relative_url(file_url).download(local_file).execute_query()\u001b[0m\u001b[1;33m\u001b[0m\u001b[1;33m\u001b[0m\u001b[1;33m\u001b[0m\u001b[0m\n",
      "\u001b[1;31mAttributeError\u001b[0m: 'str' object has no attribute 'mkdtemp'"
     ]
    }
   ],
   "source": []
  },
  {
   "cell_type": "code",
   "execution_count": null,
   "id": "3e29f54a-288e-4385-83ae-405ac3b4b53a",
   "metadata": {},
   "outputs": [],
   "source": []
  },
  {
   "cell_type": "code",
   "execution_count": null,
   "id": "f6cf7f0e-8b61-4df3-b5e7-10dc1c702366",
   "metadata": {},
   "outputs": [],
   "source": []
  },
  {
   "cell_type": "code",
   "execution_count": null,
   "id": "7b2a1f74-28c2-4ec7-b220-ecfd74a29f44",
   "metadata": {},
   "outputs": [],
   "source": []
  },
  {
   "cell_type": "code",
   "execution_count": null,
   "id": "718a69dd-2a85-4df0-8404-6fbc6164db82",
   "metadata": {},
   "outputs": [],
   "source": []
  }
 ],
 "metadata": {
  "kernelspec": {
   "display_name": "Python 3 (ipykernel)",
   "language": "python",
   "name": "python3"
  },
  "language_info": {
   "codemirror_mode": {
    "name": "ipython",
    "version": 3
   },
   "file_extension": ".py",
   "mimetype": "text/x-python",
   "name": "python",
   "nbconvert_exporter": "python",
   "pygments_lexer": "ipython3",
   "version": "3.7.2"
  }
 },
 "nbformat": 4,
 "nbformat_minor": 5
}

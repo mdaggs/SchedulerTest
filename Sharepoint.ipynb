{
 "cells": [
  {
   "cell_type": "code",
   "execution_count": null,
   "id": "4e38d128-0d5a-4936-8820-2038f6499b03",
   "metadata": {},
   "outputs": [],
   "source": [
    "from shareplum import Site, Office365\n",
    "from shareplum.site import Version\n",
    "\n",
    "import json, os\n",
    "\n",
    "ROOT_DIR = os.path.dirname(os.path.abspath(__file__))\n",
    "config_path = '\\\\'.join([ROOT_DIR, 'config.json'])\n",
    "\n",
    "\n",
    "# read json file\n",
    "with open(config_path) as config_file:\n",
    "    config = json.load(config_file)\n",
    "    config = config['share_point']\n",
    "\n",
    "USERNAME = config['user']\n",
    "PASSWORD = config['password']\n",
    "SHAREPOINT_URL = config['url']\n",
    "SHAREPOINT_SITE = config['site']\n",
    "SHAREPOINT_DOC = config['doc_library']\n",
    "\n",
    "class SharePoint:\n",
    "    def auth(self):\n",
    "        self.authcookie = Office365(SHAREPOINT_URL, username=USERNAME, password=PASSWORD).GetCookies()\n",
    "        self.site = Site(SHAREPOINT_SITE, version=Version.v365, authcookie=self.authcookie)\n",
    "\n",
    "        return self.site\n",
    "\n",
    "    \n",
    "    def connect_folder(self, folder_name):\n",
    "        self.auth_site = self.auth()\n",
    "\n",
    "        self.sharepoint_dir = ''.join([SHAREPOINT_DOC, folder_name])\n",
    "        self.folder = self.auth_site.Folder(self.sharepoint_dir)\n",
    "\n",
    "        return self.folder\n",
    "\n",
    "    def download_file(self, file_name, folder_name):\n",
    "        self._folder = self.connect_folder(folder_name)\n",
    "        return self._folder.get_file(file_name)\n",
    "\n",
    "    def _get_files_list(self, folder_name):\n",
    "        self._folder = self.connect_folder(folder_name)\n",
    "        return self._folder.files\n",
    "\n",
    "    def download_files(self, folder_name):\n",
    "        self._files_list = self._get_files_list(folder_name)\n",
    "        return self._files_list"
   ]
  }
 ],
 "metadata": {
  "kernelspec": {
   "display_name": "Python 3 (ipykernel)",
   "language": "python",
   "name": "python3"
  },
  "language_info": {
   "codemirror_mode": {
    "name": "ipython",
    "version": 3
   },
   "file_extension": ".py",
   "mimetype": "text/x-python",
   "name": "python",
   "nbconvert_exporter": "python",
   "pygments_lexer": "ipython3",
   "version": "3.7.2"
  }
 },
 "nbformat": 4,
 "nbformat_minor": 5
}

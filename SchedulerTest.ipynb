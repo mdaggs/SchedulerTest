{
 "cells": [
  {
   "cell_type": "code",
   "execution_count": 50,
   "id": "85e8ae00-49b2-4d07-8aaf-20a04b137818",
   "metadata": {},
   "outputs": [],
   "source": [
    "import pandas as pd\n",
    "from datetime import datetime\n",
    "import os\n",
    "import numpy as np\n",
    "import time"
   ]
  },
  {
   "cell_type": "code",
   "execution_count": 51,
   "id": "99bfe937-a4d3-455f-98d2-26181620c4a5",
   "metadata": {},
   "outputs": [],
   "source": [
    "filepath = 'SchedulerTest.csv'"
   ]
  },
  {
   "cell_type": "code",
   "execution_count": 52,
   "id": "e22da23d-283c-478e-9289-4da4a5de9da2",
   "metadata": {},
   "outputs": [
    {
     "name": "stdout",
     "output_type": "stream",
     "text": [
      "File Does not Exist, creating new file and appending\n",
      "2022-02-18 10:53:30.019377\n",
      "  Value                       Time\n",
      "0     5 2022-02-18 10:53:30.019377\n",
      "File Exists, appending to old file\n",
      "2022-02-18 10:53:35.047470\n",
      "   Value                        Time\n",
      "0      5  2022-02-18 10:53:30.019377\n",
      "1     10  2022-02-18 10:53:35.047470\n",
      "File Exists, appending to old file\n",
      "2022-02-18 10:53:40.065995\n",
      "   Value                        Time\n",
      "0      5  2022-02-18 10:53:30.019377\n",
      "1     10  2022-02-18 10:53:35.047470\n",
      "2     15  2022-02-18 10:53:40.065995\n"
     ]
    },
    {
     "ename": "KeyboardInterrupt",
     "evalue": "",
     "output_type": "error",
     "traceback": [
      "\u001b[1;31m---------------------------------------------------------------------------\u001b[0m",
      "\u001b[1;31mKeyboardInterrupt\u001b[0m                         Traceback (most recent call last)",
      "\u001b[1;32mC:\\Windows\\Temp\\ipykernel_25004\\1506148343.py\u001b[0m in \u001b[0;36m<module>\u001b[1;34m\u001b[0m\n\u001b[0;32m     27\u001b[0m         \u001b[0mdf\u001b[0m\u001b[1;33m.\u001b[0m\u001b[0mto_csv\u001b[0m\u001b[1;33m(\u001b[0m\u001b[0mfilepath\u001b[0m\u001b[1;33m)\u001b[0m\u001b[1;33m\u001b[0m\u001b[1;33m\u001b[0m\u001b[0m\n\u001b[0;32m     28\u001b[0m \u001b[1;33m\u001b[0m\u001b[0m\n\u001b[1;32m---> 29\u001b[1;33m     \u001b[0mtime\u001b[0m\u001b[1;33m.\u001b[0m\u001b[0msleep\u001b[0m\u001b[1;33m(\u001b[0m\u001b[1;36m5\u001b[0m\u001b[1;33m)\u001b[0m\u001b[1;33m\u001b[0m\u001b[1;33m\u001b[0m\u001b[0m\n\u001b[0m",
      "\u001b[1;31mKeyboardInterrupt\u001b[0m: "
     ]
    }
   ],
   "source": [
    "while True:\n",
    "    if os.path.isfile(filepath):\n",
    "        print(\"File Exists, appending to old file\")\n",
    "        df = pd.read_csv(filepath, index_col=0)\n",
    "        currentDate = datetime.now()\n",
    "        print(currentDate)\n",
    "        df = df.append({\n",
    "            'Value': np.add(df['Value'].iloc[-1], 5),\n",
    "            'Time': currentDate},\n",
    "            ignore_index=True\n",
    "        )\n",
    "        print(df)\n",
    "        df.to_csv(filepath)\n",
    "    else:\n",
    "        print(\"File Does not Exist, creating new file and appending\")\n",
    "        currentDate = datetime.now()\n",
    "        print(currentDate)\n",
    "        df = pd.DataFrame(\n",
    "            columns=['Value', 'Time']\n",
    "        )\n",
    "        df = df.append({\n",
    "            'Value': 5,\n",
    "            'Time': currentDate},\n",
    "            ignore_index=True\n",
    "        )\n",
    "        print(df)\n",
    "        df.to_csv(filepath)\n",
    "        \n",
    "    time.sleep(300)"
   ]
  },
  {
   "cell_type": "code",
   "execution_count": null,
   "id": "eddd66ea-a6bf-4876-b8bb-2243e63ef6b7",
   "metadata": {},
   "outputs": [],
   "source": []
  },
  {
   "cell_type": "code",
   "execution_count": null,
   "id": "3acd604e-82fe-4a05-83c0-cd02522b1121",
   "metadata": {},
   "outputs": [],
   "source": []
  },
  {
   "cell_type": "code",
   "execution_count": null,
   "id": "46cd9fcb-4786-449b-a727-dae9a3018b1b",
   "metadata": {},
   "outputs": [],
   "source": []
  },
  {
   "cell_type": "code",
   "execution_count": null,
   "id": "c35ebce0-6c92-49b0-af75-4911493dfd7c",
   "metadata": {},
   "outputs": [],
   "source": []
  },
  {
   "cell_type": "code",
   "execution_count": null,
   "id": "e6d1484a-2b22-4ecf-8f6a-1502fe27abf4",
   "metadata": {},
   "outputs": [],
   "source": []
  },
  {
   "cell_type": "code",
   "execution_count": null,
   "id": "ca655f62-520b-4789-ad4f-4efe07cee65d",
   "metadata": {},
   "outputs": [],
   "source": []
  },
  {
   "cell_type": "code",
   "execution_count": null,
   "id": "f633cffc-afd7-4328-ac28-7321dcae28a5",
   "metadata": {},
   "outputs": [],
   "source": []
  }
 ],
 "metadata": {
  "kernelspec": {
   "display_name": "Python 3 (ipykernel)",
   "language": "python",
   "name": "python3"
  },
  "language_info": {
   "codemirror_mode": {
    "name": "ipython",
    "version": 3
   },
   "file_extension": ".py",
   "mimetype": "text/x-python",
   "name": "python",
   "nbconvert_exporter": "python",
   "pygments_lexer": "ipython3",
   "version": "3.7.2"
  }
 },
 "nbformat": 4,
 "nbformat_minor": 5
}
